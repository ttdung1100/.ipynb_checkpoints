{
 "cells": [
  {
   "cell_type": "code",
   "execution_count": 1,
   "metadata": {},
   "outputs": [
    {
     "name": "stdout",
     "output_type": "stream",
     "text": [
      "     x   y\n",
      "0   25  79\n",
      "1   34  51\n",
      "2   22  53\n",
      "3   27  78\n",
      "4   33  59\n",
      "5   33  74\n",
      "6   31  73\n",
      "7   22  57\n",
      "8   35  69\n",
      "9   34  75\n",
      "10  67  51\n",
      "11  54  32\n",
      "12  57  40\n",
      "13  43  47\n",
      "14  50  53\n",
      "15  57  36\n",
      "16  59  35\n",
      "17  52  58\n",
      "18  65  59\n",
      "19  47  50\n",
      "20  49  25\n",
      "21  48  20\n",
      "22  35  14\n",
      "23  33  12\n",
      "24  44  20\n",
      "25  45   5\n",
      "26  38  29\n",
      "27  43  27\n",
      "28  51   8\n",
      "29  46   7\n"
     ]
    }
   ],
   "source": [
    "from pandas import DataFrame\n",
    "\n",
    "Data = {'x': [25,34,22,27,33,33,31,22,35,34,67,54,57,43,50,57,59,52,65,47,49,48,35,33,44,45,38,43,51,46],\n",
    "        'y': [79,51,53,78,59,74,73,57,69,75,51,32,40,47,53,36,35,58,59,50,25,20,14,12,20,5,29,27,8,7]\n",
    "       }\n",
    "  \n",
    "df = DataFrame(Data,columns=['x','y'])\n",
    "print (df)\n"
   ]
  },
  {
   "cell_type": "code",
   "execution_count": 2,
   "metadata": {},
   "outputs": [
    {
     "name": "stdout",
     "output_type": "stream",
     "text": [
      "[[43.2 16.7]\n",
      " [29.6 66.8]\n",
      " [55.1 46.1]]\n"
     ]
    },
    {
     "data": {
      "text/plain": [
       "<matplotlib.collections.PathCollection at 0x192d9ada0f0>"
      ]
     },
     "execution_count": 2,
     "metadata": {},
     "output_type": "execute_result"
    }
   ],
   "source": [
    "from pandas import DataFrame\n",
    "import matplotlib.pyplot as plt\n",
    "from sklearn.cluster import KMeans\n",
    "\n",
    "Data = {'x': [25,34,22,27,33,33,31,22,35,34,67,54,57,43,50,57,59,52,65,47,49,48,35,33,44,45,38,43,51,46],\n",
    "        'y': [79,51,53,78,59,74,73,57,69,75,51,32,40,47,53,36,35,58,59,50,25,20,14,12,20,5,29,27,8,7]\n",
    "       }\n",
    "  \n",
    "df = DataFrame(Data,columns=['x','y'])\n",
    "  \n",
    "kmeans = KMeans(n_clusters=3).fit(df)\n",
    "centroids = kmeans.cluster_centers_\n",
    "print(centroids)\n",
    "\n",
    "plt.scatter(df['x'], df['y'], c= kmeans.labels_.astype(float), s=50, alpha=0.5)\n",
    "plt.scatter(centroids[:, 0], centroids[:, 1], c='red', s=50)\n"
   ]
  },
  {
   "cell_type": "code",
   "execution_count": 3,
   "metadata": {},
   "outputs": [
    {
     "name": "stdout",
     "output_type": "stream",
     "text": [
      "[[43.2        16.7       ]\n",
      " [27.75       55.        ]\n",
      " [30.83333333 74.66666667]\n",
      " [55.1        46.1       ]]\n"
     ]
    },
    {
     "data": {
      "text/plain": [
       "<matplotlib.collections.PathCollection at 0x192da4b0ba8>"
      ]
     },
     "execution_count": 3,
     "metadata": {},
     "output_type": "execute_result"
    },
    {
     "data": {
      "image/png": "[encoded data removed]",
      "text/plain": [
       "<Figure size 432x288 with 1 Axes>"
      ]
     },
     "metadata": {
      "needs_background": "light"
     },
     "output_type": "display_data"
    }
   ],
   "source": [
    "from pandas import DataFrame\n",
    "import matplotlib.pyplot as plt\n",
    "from sklearn.cluster import KMeans\n",
    "\n",
    "Data = {'x': [25,34,22,27,33,33,31,22,35,34,67,54,57,43,50,57,59,52,65,47,49,48,35,33,44,45,38,43,51,46],\n",
    "        'y': [79,51,53,78,59,74,73,57,69,75,51,32,40,47,53,36,35,58,59,50,25,20,14,12,20,5,29,27,8,7]\n",
    "       }\n",
    "  \n",
    "df = DataFrame(Data,columns=['x','y'])\n",
    "  \n",
    "kmeans = KMeans(n_clusters=4).fit(df)\n",
    "centroids = kmeans.cluster_centers_\n",
    "print(centroids)\n",
    "\n",
    "plt.scatter(df['x'], df['y'], c= kmeans.labels_.astype(float), s=50, alpha=0.5)\n",
    "plt.scatter(centroids[:, 0], centroids[:, 1], c='red', s=50)\n"
   ]
  },
  {
   "cell_type": "code",
   "execution_count": 4,
   "metadata": {},
   "outputs": [
    {
     "data": {
      "text/plain": [
       "5"
      ]
     },
     "execution_count": 4,
     "metadata": {},
     "output_type": "execute_result"
    }
   ],
   "source": [
    "import tkinter as tk\n",
    "from tkinter import filedialog\n",
    "import pandas as pd\n",
    "from pandas import DataFrame\n",
    "import matplotlib.pyplot as plt\n",
    "from sklearn.cluster import KMeans\n",
    "from matplotlib.backends.backend_tkagg import FigureCanvasTkAgg\n",
    "\n",
    "root= tk.Tk()\n",
    "\n",
    "canvas1 = tk.Canvas(root, width = 400, height = 300,  relief = 'raised')\n",
    "canvas1.pack()\n",
    "\n",
    "label1 = tk.Label(root, text='k-Means Clustering')\n",
    "label1.config(font=('helvetica', 14))\n",
    "canvas1.create_window(200, 25, window=label1)\n",
    "\n",
    "label2 = tk.Label(root, text='Type Number of Clusters:')\n",
    "label2.config(font=('helvetica', 8))\n",
    "canvas1.create_window(200, 120, window=label2)\n",
    "\n",
    "entry1 = tk.Entry (root) \n",
    "canvas1.create_window(200, 140, window=entry1)\n",
    "\n",
    "def getExcel ():\n",
    "    \n",
    "    global df\n",
    "    import_file_path = filedialog.askopenfilename()\n",
    "    read_file = pd.read_excel (import_file_path)\n",
    "    df = DataFrame(read_file,columns=['x','y'])  \n",
    "    \n",
    "browseButtonExcel = tk.Button(text=\" Import Excel File \", command=getExcel, bg='green', fg='white', font=('helvetica', 10, 'bold'))\n",
    "canvas1.create_window(200, 70, window=browseButtonExcel)\n",
    "\n",
    "def getKMeans ():\n",
    "    global df\n",
    "    global numberOfClusters\n",
    "    numberOfClusters = int(entry1.get())\n",
    "    \n",
    "    kmeans = KMeans(n_clusters=numberOfClusters).fit(df)\n",
    "    centroids = kmeans.cluster_centers_\n",
    "    \n",
    "    label3 = tk.Label(root, text= centroids)\n",
    "    canvas1.create_window(200, 250, window=label3)\n",
    "    \n",
    "    figure1 = plt.Figure(figsize=(4,3), dpi=100)\n",
    "    ax1 = figure1.add_subplot(111)\n",
    "    ax1.scatter(df['x'], df['y'], c= kmeans.labels_.astype(float), s=50, alpha=0.5)\n",
    "    ax1.scatter(centroids[:, 0], centroids[:, 1], c='red', s=50)\n",
    "    scatter1 = FigureCanvasTkAgg(figure1, root) \n",
    "    scatter1.get_tk_widget().pack(side=tk.RIGHT, fill=tk.BOTH)\n",
    "    \n",
    "processButton = tk.Button(text=' Process k-Means ', command=getKMeans, bg='brown', fg='white', font=('helvetica', 10, 'bold'))\n",
    "canvas1.create_window(200, 170, window=processButton)\n"
   ]
  },
  {
   "cell_type": "code",
   "execution_count": null,
   "metadata": {},
   "outputs": [],
   "source": [
    "from pandas import DataFrame\n",
    "import statsmodels.api as sm\n",
    "\n",
    "Stock_Market = {'Year': [2017,2017,2017,2017,2017,2017,2017,2017,2017,2017,2017,2017,2016,2016,2016,2016,2016,2016,2016,2016,2016,2016,2016,2016],\n",
    "                'Month': [12, 11,10,9,8,7,6,5,4,3,2,1,12,11,10,9,8,7,6,5,4,3,2,1],\n",
    "                'Interest_Rate': [2.75,2.5,2.5,2.5,2.5,2.5,2.5,2.25,2.25,2.25,2,2,2,1.75,1.75,1.75,1.75,1.75,1.75,1.75,1.75,1.75,1.75,1.75],\n",
    "                'Unemployment_Rate': [5.3,5.3,5.3,5.3,5.4,5.6,5.5,5.5,5.5,5.6,5.7,5.9,6,5.9,5.8,6.1,6.2,6.1,6.1,6.1,5.9,6.2,6.2,6.1],\n",
    "                'Stock_Index_Price': [1464,1394,1357,1293,1256,1254,1234,1195,1159,1167,1130,1075,1047,965,943,958,971,949,884,866,876,822,704,719]        \n",
    "                }\n",
    "\n",
    "df = DataFrame(Stock_Market,columns=['Year','Month','Interest_Rate','Unemployment_Rate','Stock_Index_Price']) \n",
    "\n",
    "X = df[['Interest_Rate','Unemployment_Rate']] # here we have 2 variables for multiple regression. If you just want to use one variable for simple linear regression, then use X = df['Interest_Rate'] for example.Alternatively, you may add additional variables within the brackets\n",
    "Y = df['Stock_Index_Price']\n",
    "\n",
    "X = sm.add_constant(X) # adding a constant\n",
    "\n",
    "model = sm.OLS(Y, X).fit()\n",
    "predictions = model.predict(X) \n",
    "\n",
    "print_model = model.summary()\n",
    "print(print_model)\n"
   ]
  },
  {
   "cell_type": "code",
   "execution_count": null,
   "metadata": {},
   "outputs": [],
   "source": []
  }
 ],
 "metadata": {
  "kernelspec": {
   "display_name": "Python 3",
   "language": "python",
   "name": "python3"
  },
  "language_info": {
   "codemirror_mode": {
    "name": "ipython",
    "version": 3
   },
   "file_extension": ".py",
   "mimetype": "text/x-python",
   "name": "python",
   "nbconvert_exporter": "python",
   "pygments_lexer": "ipython3",
   "version": "3.7.3"
  }
 },
 "nbformat": 4,
 "nbformat_minor": 2
}
